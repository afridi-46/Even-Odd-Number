{
  "nbformat": 4,
  "nbformat_minor": 0,
  "metadata": {
    "colab": {
      "provenance": []
    },
    "kernelspec": {
      "name": "python3",
      "display_name": "Python 3"
    },
    "language_info": {
      "name": "python"
    }
  },
  "cells": [
    {
      "cell_type": "code",
      "source": [
        "n = int(input(\"Enter any number : \"))\n",
        "if n%2 == 0:\n",
        "  print(\"Even Number\")\n",
        "elif n < 0:\n",
        "  print(\"Please try again.\")\n",
        "else:\n",
        "  print(\"Odd Number\")"
      ],
      "metadata": {
        "colab": {
          "base_uri": "https://localhost:8080/"
        },
        "id": "Jyo5_K2rsddh",
        "outputId": "3fda746e-18ea-43d6-971e-61d20e496621"
      },
      "execution_count": 4,
      "outputs": [
        {
          "output_type": "stream",
          "name": "stdout",
          "text": [
            "Enter any number : 99\n",
            "Odd Number\n"
          ]
        }
      ]
    }
  ]
}